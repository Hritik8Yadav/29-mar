{
 "cells": [
  {
   "cell_type": "code",
   "execution_count": null,
   "id": "76bd6e27-2e26-48a2-86dd-87c08a32c035",
   "metadata": {},
   "outputs": [],
   "source": [
    "'''Ans1: The lesso regression is a type of regression which is used to handle the feature selection as well as the \n",
    "         some kind of overfitting is also reduced by the lesso regression. \n",
    "         It is different from the other regression techniques because it add the peanilize the the absolute value of\n",
    "         slope with the hyperparameter while the other regression either doen't use the panelty or use the panelty as\n",
    "         multiplication of hyperparameter and square of slope.\n",
    "'''"
   ]
  },
  {
   "cell_type": "code",
   "execution_count": null,
   "id": "792ea192-d22b-49c8-b928-18c5cb8b3a3d",
   "metadata": {},
   "outputs": [],
   "source": [
    "'''Ans2: The lesso regression helps the model to do the proper and relevant feature selection by using the panelty \n",
    "         parameter added to the ordinary cost function. This helps the model to trin only with the relevant feature\n",
    "         and save the both time and memory of the model.\n",
    "'''"
   ]
  },
  {
   "cell_type": "code",
   "execution_count": null,
   "id": "00848805-5dd1-48db-9bb8-1a4b29f0e0ec",
   "metadata": {},
   "outputs": [],
   "source": [
    "'''Ans3: In the lesso regression it elemenates the features which are vary less relevant to the model prediction\n",
    "         and this helps the model to predict the dependent feature accurately.\n",
    "         The elimination of the feature is done through the hyperparameter setting and the cost function. \n",
    "         We know that the higher is the hyper parameter the lower is the value of the coefficient and this coefficient\n",
    "         when is very low then the overall feature with relevant coefficient is selected only.\n",
    "'''"
   ]
  },
  {
   "cell_type": "code",
   "execution_count": null,
   "id": "2e04f153-11b3-4367-aaa7-af1b80e9b577",
   "metadata": {},
   "outputs": [],
   "source": [
    "'''Ans4: The tunning parameter which can handle in the data is the regulation parameter (lambda) and this parameter\n",
    "         make the significat difference on the feature selection of the model. The larger is the value of the \n",
    "         feature lesser will be the value of the coefficient of the features. This make the feature selection possible.\n",
    "         However if we take the value of the lambda very high then it will make every coefficient negligible hence \n",
    "         making the value of every feature negligible. So the value of lambda is taken in limit.\n",
    "'''"
   ]
  },
  {
   "cell_type": "code",
   "execution_count": null,
   "id": "d2a778af-bfd3-4cb5-9654-20eb9042ee4e",
   "metadata": {},
   "outputs": [],
   "source": [
    "'''Ans5: Lasso Regression is typically used for linear regression problems, it can be used for non-linear \n",
    "         regression problems by incorporating non-linear transformations of the independent variables into the \n",
    "         model. Polynomial regression and basis functions are two common approaches for incorporating non-linear \n",
    "         transformations into the model.\n",
    "'''"
   ]
  },
  {
   "cell_type": "code",
   "execution_count": null,
   "id": "3476d3a3-94f1-42c9-b85c-7a70cff85612",
   "metadata": {},
   "outputs": [],
   "source": [
    "'''Ans6: The following are the differences between lesso regression and ridge regression:\n",
    "            \n",
    "            i. The ridge regression use the square of the slope in the panelty parameter in the cost function while \n",
    "               the lesso regression use the mod of the slope in the panelty parameter in the cost function.\n",
    "            ii. The ridge regression is generally used for the handling the overfitting issue while the lesso regression\n",
    "                is use to handle the feature selection issue.\n",
    "'''"
   ]
  },
  {
   "cell_type": "code",
   "execution_count": null,
   "id": "978b3881-1a7a-4e3f-b0b7-49760cae3617",
   "metadata": {},
   "outputs": [],
   "source": [
    "'''Ans7: Yes, the lesso regression can handle some kind of multicollinearity by eleminating some of the features\n",
    "        with the multicollinearity. This is done through setting the coefficient to zero at some level.\n",
    "'''"
   ]
  },
  {
   "cell_type": "code",
   "execution_count": null,
   "id": "741d8104-8074-4fe0-8d4e-626a7f842e36",
   "metadata": {},
   "outputs": [],
   "source": [
    "'''Ans8: The various technique used for selection of the regularization parameter (lambda) are:\n",
    "            \n",
    "            i. Grid selection: In this technique the certian range of values of lambda is taken and then the optimal\n",
    "                                value with highest accureacy is selected.\n",
    "            ii. Cross validaton: In this technique the data is divided into certain parts on this divided parts are\n",
    "                                 train and test data then after train the model is tested on the test data and the\n",
    "                                 optimal value of lambda is taken.\n",
    "'''"
   ]
  }
 ],
 "metadata": {
  "kernelspec": {
   "display_name": "Python 3 (ipykernel)",
   "language": "python",
   "name": "python3"
  },
  "language_info": {
   "codemirror_mode": {
    "name": "ipython",
    "version": 3
   },
   "file_extension": ".py",
   "mimetype": "text/x-python",
   "name": "python",
   "nbconvert_exporter": "python",
   "pygments_lexer": "ipython3",
   "version": "3.10.8"
  }
 },
 "nbformat": 4,
 "nbformat_minor": 5
}
